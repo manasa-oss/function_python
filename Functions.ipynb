{
 "cells": [
  {
   "cell_type": "markdown",
   "metadata": {},
   "source": [
    "## Functions"
   ]
  },
  {
   "cell_type": "code",
   "execution_count": 8,
   "metadata": {},
   "outputs": [
    {
     "name": "stdout",
     "output_type": "stream",
     "text": [
      "my data read from the web\n",
      "beginning data processing...\n",
      "my data read from the webthat has been modified\n",
      "data processing finished.\n",
      "my data read from the webthat has been modified\n"
     ]
    }
   ],
   "source": [
    "from time import sleep\n",
    "    \n",
    "#print(\"this is my file to demonstrate best practices.\")\n",
    "def process_data(data):\n",
    "    print(\"beginning data processing...\")\n",
    "    modified_data=data + \"that has been modified\"\n",
    "    #print(modified_data)\n",
    "    sleep(3)\n",
    "    print(\"data processing finished.\")\n",
    "    return modified_data\n",
    "if __name__ == \"__main__\":\n",
    "    data = \"my data read from the web\"\n",
    "    print(data)\n",
    "    modified_data = process_data(data)\n",
    "    print(modified_data)"
   ]
  },
  {
   "cell_type": "code",
   "execution_count": 9,
   "metadata": {},
   "outputs": [
    {
     "name": "stdout",
     "output_type": "stream",
     "text": [
      "beginning data processing...\n",
      "my data read from the webthat has been modified\n",
      "data processing finished.\n"
     ]
    },
    {
     "data": {
      "text/plain": [
       "'my data read from the webthat has been modified'"
      ]
     },
     "execution_count": 9,
     "metadata": {},
     "output_type": "execute_result"
    }
   ],
   "source": [
    "process_data(data)"
   ]
  },
  {
   "cell_type": "code",
   "execution_count": null,
   "metadata": {},
   "outputs": [],
   "source": []
  },
  {
   "cell_type": "code",
   "execution_count": 10,
   "metadata": {},
   "outputs": [
    {
     "name": "stdout",
     "output_type": "stream",
     "text": [
      "my data read from the web\n",
      "beggining data processing...\n",
      "Data processing finished.\n",
      "my data read from the webthat has been modified\n"
     ]
    }
   ],
   "source": [
    "#print(\"this is file to demonstrate best practices\")\n",
    "def process_data(data):\n",
    "    print(\"beggining data processing...\")\n",
    "    modified_data = data + \"that has been modified\"\n",
    "    sleep(3)\n",
    "    print(\"Data processing finished.\")\n",
    "    return modified_data\n",
    "def main():\n",
    "    data = 'my data read from the web'\n",
    "    print(data)\n",
    "    modified_data = process_data(data)\n",
    "    print(modified_data)\n",
    "if __name__==\"__main__\":\n",
    "    main()\n",
    "    "
   ]
  },
  {
   "cell_type": "code",
   "execution_count": 11,
   "metadata": {},
   "outputs": [
    {
     "name": "stdout",
     "output_type": "stream",
     "text": [
      "read data from web\n",
      "beggining data processing...\n",
      "Data processing finished.\n",
      "writing data to a database\n",
      "data from the webthat has been modified\n"
     ]
    }
   ],
   "source": [
    "#print(\"this is file to demonstrate best practices\")\n",
    "def process_data(data):\n",
    "    print(\"beggining data processing...\")\n",
    "    modified_data = data + \"that has been modified\"\n",
    "    sleep(3)\n",
    "    print(\"Data processing finished.\")\n",
    "    return modified_data\n",
    "\n",
    "def read_data_from_web():\n",
    "    print(\"read data from web\")\n",
    "    data = \"data from the web\"\n",
    "    return data\n",
    "\n",
    "def write_data_to_database(data):\n",
    "    print(\"writing data to a database\")\n",
    "    print(data)\n",
    "    \n",
    "def main():\n",
    "    data = read_data_from_web()\n",
    "    modified_data = process_data(data)\n",
    "    write_data_to_database(modified_data)\n",
    "    \n",
    "if __name__==\"__main__\":\n",
    "    main()"
   ]
  },
  {
   "cell_type": "code",
   "execution_count": 12,
   "metadata": {},
   "outputs": [
    {
     "name": "stdout",
     "output_type": "stream",
     "text": [
      "read data from web\n"
     ]
    }
   ],
   "source": [
    "data = read_data_from_web()"
   ]
  },
  {
   "cell_type": "code",
   "execution_count": 13,
   "metadata": {},
   "outputs": [
    {
     "name": "stdout",
     "output_type": "stream",
     "text": [
      "beggining data processing...\n",
      "Data processing finished.\n"
     ]
    }
   ],
   "source": [
    "modified_data = process_data(data)"
   ]
  },
  {
   "cell_type": "code",
   "execution_count": 14,
   "metadata": {},
   "outputs": [
    {
     "name": "stdout",
     "output_type": "stream",
     "text": [
      "writing data to a database\n",
      "data from the webthat has been modified\n"
     ]
    }
   ],
   "source": [
    "write_data_to_database(modified_data)"
   ]
  },
  {
   "cell_type": "code",
   "execution_count": null,
   "metadata": {},
   "outputs": [],
   "source": []
  }
 ],
 "metadata": {
  "kernelspec": {
   "display_name": "Python 3",
   "language": "python",
   "name": "python3"
  },
  "language_info": {
   "codemirror_mode": {
    "name": "ipython",
    "version": 3
   },
   "file_extension": ".py",
   "mimetype": "text/x-python",
   "name": "python",
   "nbconvert_exporter": "python",
   "pygments_lexer": "ipython3",
   "version": "3.8.5"
  }
 },
 "nbformat": 4,
 "nbformat_minor": 4
}
